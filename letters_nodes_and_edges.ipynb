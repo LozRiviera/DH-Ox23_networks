{
 "cells": [
  {
   "cell_type": "markdown",
   "metadata": {},
   "source": [
    "### Firstly we want import the Python libraries we want to use for our analysis:\n"
   ]
  },
  {
   "cell_type": "code",
   "execution_count": 1,
   "metadata": {},
   "outputs": [],
   "source": [
    "# for handling data tables (reading csv files) \n",
    "import pandas as pd\n",
    "\n",
    "import numpy as np\n",
    "\n",
    "# library for network data\n",
    "import networkx as nx\n",
    "\n",
    "# and for creating images\n",
    "import matplotlib.pyplot as plt"
   ]
  },
  {
   "cell_type": "markdown",
   "metadata": {},
   "source": [
    "### We will load two csv files, one containing edges, and the next with information about the nodes\n"
   ]
  },
  {
   "cell_type": "code",
   "execution_count": 48,
   "metadata": {},
   "outputs": [],
   "source": [
    "df_nodes = pd.read_csv('./letters_data/Letters_nodes.csv',\n",
    "                       index_col=0)"
   ]
  },
  {
   "cell_type": "code",
   "execution_count": 49,
   "metadata": {},
   "outputs": [
    {
     "data": {
      "text/html": [
       "<div>\n",
       "<style scoped>\n",
       "    .dataframe tbody tr th:only-of-type {\n",
       "        vertical-align: middle;\n",
       "    }\n",
       "\n",
       "    .dataframe tbody tr th {\n",
       "        vertical-align: top;\n",
       "    }\n",
       "\n",
       "    .dataframe thead th {\n",
       "        text-align: right;\n",
       "    }\n",
       "</style>\n",
       "<table border=\"1\" class=\"dataframe\">\n",
       "  <thead>\n",
       "    <tr style=\"text-align: right;\">\n",
       "      <th></th>\n",
       "      <th>letterID</th>\n",
       "      <th>First_Name</th>\n",
       "      <th>Surname</th>\n",
       "      <th>Military/Civilian</th>\n",
       "      <th>Rank</th>\n",
       "      <th>Civilian_Career</th>\n",
       "      <th>Subnet</th>\n",
       "    </tr>\n",
       "    <tr>\n",
       "      <th>ID</th>\n",
       "      <th></th>\n",
       "      <th></th>\n",
       "      <th></th>\n",
       "      <th></th>\n",
       "      <th></th>\n",
       "      <th></th>\n",
       "      <th></th>\n",
       "    </tr>\n",
       "  </thead>\n",
       "  <tbody>\n",
       "    <tr>\n",
       "      <th>1</th>\n",
       "      <td>a</td>\n",
       "      <td>Amelia</td>\n",
       "      <td>Anderson</td>\n",
       "      <td>Military</td>\n",
       "      <td>Private</td>\n",
       "      <td>NaN</td>\n",
       "      <td>1</td>\n",
       "    </tr>\n",
       "    <tr>\n",
       "      <th>2</th>\n",
       "      <td>b</td>\n",
       "      <td>Benjamin</td>\n",
       "      <td>Brown</td>\n",
       "      <td>Military</td>\n",
       "      <td>Private</td>\n",
       "      <td>NaN</td>\n",
       "      <td>1</td>\n",
       "    </tr>\n",
       "    <tr>\n",
       "      <th>3</th>\n",
       "      <td>c</td>\n",
       "      <td>Chloe</td>\n",
       "      <td>Carter</td>\n",
       "      <td>Military</td>\n",
       "      <td>Lance Corporal</td>\n",
       "      <td>NaN</td>\n",
       "      <td>1</td>\n",
       "    </tr>\n",
       "    <tr>\n",
       "      <th>4</th>\n",
       "      <td>d</td>\n",
       "      <td>Daniel</td>\n",
       "      <td>Davis</td>\n",
       "      <td>Military</td>\n",
       "      <td>Private</td>\n",
       "      <td>NaN</td>\n",
       "      <td>1</td>\n",
       "    </tr>\n",
       "    <tr>\n",
       "      <th>5</th>\n",
       "      <td>e</td>\n",
       "      <td>Emily</td>\n",
       "      <td>Evans</td>\n",
       "      <td>Military</td>\n",
       "      <td>Corporal</td>\n",
       "      <td>NaN</td>\n",
       "      <td>1</td>\n",
       "    </tr>\n",
       "    <tr>\n",
       "      <th>6</th>\n",
       "      <td>f</td>\n",
       "      <td>Finn</td>\n",
       "      <td>Foley</td>\n",
       "      <td>Military</td>\n",
       "      <td>Sergeant</td>\n",
       "      <td>NaN</td>\n",
       "      <td>1</td>\n",
       "    </tr>\n",
       "    <tr>\n",
       "      <th>7</th>\n",
       "      <td>g</td>\n",
       "      <td>Grace</td>\n",
       "      <td>Green</td>\n",
       "      <td>Military</td>\n",
       "      <td>Sergeant</td>\n",
       "      <td>NaN</td>\n",
       "      <td>1</td>\n",
       "    </tr>\n",
       "    <tr>\n",
       "      <th>8</th>\n",
       "      <td>h</td>\n",
       "      <td>Harry</td>\n",
       "      <td>Hall</td>\n",
       "      <td>Civilian</td>\n",
       "      <td>NaN</td>\n",
       "      <td>Farmer</td>\n",
       "      <td>2</td>\n",
       "    </tr>\n",
       "    <tr>\n",
       "      <th>9</th>\n",
       "      <td>i</td>\n",
       "      <td>Isabella</td>\n",
       "      <td>Jackson</td>\n",
       "      <td>Civilian</td>\n",
       "      <td>NaN</td>\n",
       "      <td>Teacher</td>\n",
       "      <td>2</td>\n",
       "    </tr>\n",
       "    <tr>\n",
       "      <th>10</th>\n",
       "      <td>j</td>\n",
       "      <td>Jack</td>\n",
       "      <td>Jones</td>\n",
       "      <td>Civilian</td>\n",
       "      <td>NaN</td>\n",
       "      <td>Nurse</td>\n",
       "      <td>2</td>\n",
       "    </tr>\n",
       "    <tr>\n",
       "      <th>11</th>\n",
       "      <td>k</td>\n",
       "      <td>Kevin</td>\n",
       "      <td>Kennedy</td>\n",
       "      <td>Civilian</td>\n",
       "      <td>NaN</td>\n",
       "      <td>Clerk</td>\n",
       "      <td>2</td>\n",
       "    </tr>\n",
       "    <tr>\n",
       "      <th>12</th>\n",
       "      <td>l</td>\n",
       "      <td>Lily</td>\n",
       "      <td>Lewis</td>\n",
       "      <td>Civilian</td>\n",
       "      <td>NaN</td>\n",
       "      <td>Salesperson</td>\n",
       "      <td>2</td>\n",
       "    </tr>\n",
       "    <tr>\n",
       "      <th>13</th>\n",
       "      <td>m</td>\n",
       "      <td>Mia</td>\n",
       "      <td>Martin</td>\n",
       "      <td>Civilian</td>\n",
       "      <td>NaN</td>\n",
       "      <td>Doctor</td>\n",
       "      <td>2</td>\n",
       "    </tr>\n",
       "    <tr>\n",
       "      <th>14</th>\n",
       "      <td>n</td>\n",
       "      <td>Noah</td>\n",
       "      <td>Nelson</td>\n",
       "      <td>Civilian</td>\n",
       "      <td>NaN</td>\n",
       "      <td>Accountant</td>\n",
       "      <td>2</td>\n",
       "    </tr>\n",
       "    <tr>\n",
       "      <th>15</th>\n",
       "      <td>o</td>\n",
       "      <td>Olivia</td>\n",
       "      <td>Owen</td>\n",
       "      <td>Military</td>\n",
       "      <td>Regimental Sergeant Major</td>\n",
       "      <td>NaN</td>\n",
       "      <td>1</td>\n",
       "    </tr>\n",
       "    <tr>\n",
       "      <th>16</th>\n",
       "      <td>p</td>\n",
       "      <td>Peter</td>\n",
       "      <td>Porker</td>\n",
       "      <td>Military</td>\n",
       "      <td>Brigadier</td>\n",
       "      <td>NaN</td>\n",
       "      <td>1</td>\n",
       "    </tr>\n",
       "    <tr>\n",
       "      <th>17</th>\n",
       "      <td>q</td>\n",
       "      <td>Quinn</td>\n",
       "      <td>Quinn</td>\n",
       "      <td>Military</td>\n",
       "      <td>Major General</td>\n",
       "      <td>NaN</td>\n",
       "      <td>1</td>\n",
       "    </tr>\n",
       "    <tr>\n",
       "      <th>18</th>\n",
       "      <td>r</td>\n",
       "      <td>Ryan</td>\n",
       "      <td>Roberts</td>\n",
       "      <td>Military</td>\n",
       "      <td>Field Marshal</td>\n",
       "      <td>NaN</td>\n",
       "      <td>1</td>\n",
       "    </tr>\n",
       "    <tr>\n",
       "      <th>19</th>\n",
       "      <td>s</td>\n",
       "      <td>Sophia</td>\n",
       "      <td>Smith</td>\n",
       "      <td>Civilian</td>\n",
       "      <td></td>\n",
       "      <td>Librarian</td>\n",
       "      <td>2</td>\n",
       "    </tr>\n",
       "    <tr>\n",
       "      <th>20</th>\n",
       "      <td>t</td>\n",
       "      <td>Thomas</td>\n",
       "      <td>Taylor</td>\n",
       "      <td>Civilian</td>\n",
       "      <td>NaN</td>\n",
       "      <td>Clerk</td>\n",
       "      <td>2</td>\n",
       "    </tr>\n",
       "    <tr>\n",
       "      <th>21</th>\n",
       "      <td>u</td>\n",
       "      <td>Uma</td>\n",
       "      <td>Underwood</td>\n",
       "      <td>Civilian</td>\n",
       "      <td></td>\n",
       "      <td>Musician</td>\n",
       "      <td>2</td>\n",
       "    </tr>\n",
       "    <tr>\n",
       "      <th>22</th>\n",
       "      <td>v</td>\n",
       "      <td>Vanessa</td>\n",
       "      <td>Vaughn</td>\n",
       "      <td>Civilian</td>\n",
       "      <td>NaN</td>\n",
       "      <td>Scientist</td>\n",
       "      <td>2</td>\n",
       "    </tr>\n",
       "    <tr>\n",
       "      <th>23</th>\n",
       "      <td>w</td>\n",
       "      <td>William</td>\n",
       "      <td>Williams</td>\n",
       "      <td>Civilian</td>\n",
       "      <td></td>\n",
       "      <td>Writer</td>\n",
       "      <td>2</td>\n",
       "    </tr>\n",
       "    <tr>\n",
       "      <th>24</th>\n",
       "      <td>x</td>\n",
       "      <td>Xavier</td>\n",
       "      <td>Xavier</td>\n",
       "      <td>Civilian</td>\n",
       "      <td>NaN</td>\n",
       "      <td>Tourist guide</td>\n",
       "      <td>2</td>\n",
       "    </tr>\n",
       "    <tr>\n",
       "      <th>25</th>\n",
       "      <td>y</td>\n",
       "      <td>Yasmin</td>\n",
       "      <td>Young</td>\n",
       "      <td>Civilian</td>\n",
       "      <td></td>\n",
       "      <td>Civil servant</td>\n",
       "      <td>2</td>\n",
       "    </tr>\n",
       "    <tr>\n",
       "      <th>26</th>\n",
       "      <td>z</td>\n",
       "      <td>Zoe</td>\n",
       "      <td>Zimmerman</td>\n",
       "      <td>Civilian</td>\n",
       "      <td>NaN</td>\n",
       "      <td>Politician</td>\n",
       "      <td>2</td>\n",
       "    </tr>\n",
       "  </tbody>\n",
       "</table>\n",
       "</div>"
      ],
      "text/plain": [
       "   letterID  First_Name      Surname Military/Civilian  \\\n",
       "ID                                                       \n",
       "1         a     Amelia     Anderson          Military    \n",
       "2         b   Benjamin        Brown          Military    \n",
       "3         c      Chloe       Carter          Military    \n",
       "4         d     Daniel        Davis          Military    \n",
       "5         e      Emily        Evans          Military    \n",
       "6         f       Finn        Foley          Military    \n",
       "7         g      Grace        Green          Military    \n",
       "8         h      Harry         Hall          Civilian    \n",
       "9         i   Isabella      Jackson          Civilian    \n",
       "10        j       Jack        Jones          Civilian    \n",
       "11        k      Kevin      Kennedy          Civilian    \n",
       "12        l       Lily        Lewis          Civilian    \n",
       "13        m        Mia       Martin          Civilian    \n",
       "14        n       Noah       Nelson          Civilian    \n",
       "15        o     Olivia         Owen          Military    \n",
       "16        p      Peter       Porker          Military    \n",
       "17        q      Quinn        Quinn          Military    \n",
       "18        r       Ryan      Roberts          Military    \n",
       "19        s     Sophia        Smith          Civilian    \n",
       "20        t     Thomas       Taylor          Civilian    \n",
       "21        u        Uma     Underwood         Civilian    \n",
       "22        v    Vanessa       Vaughn          Civilian    \n",
       "23        w    William     Williams          Civilian    \n",
       "24        x     Xavier       Xavier          Civilian    \n",
       "25        y     Yasmin        Young          Civilian    \n",
       "26        z        Zoe    Zimmerman          Civilian    \n",
       "\n",
       "                           Rank  Civilian_Career  Subnet  \n",
       "ID                                                        \n",
       "1                      Private               NaN       1  \n",
       "2                      Private               NaN       1  \n",
       "3               Lance Corporal               NaN       1  \n",
       "4                      Private               NaN       1  \n",
       "5                     Corporal               NaN       1  \n",
       "6                     Sergeant               NaN       1  \n",
       "7                     Sergeant               NaN       1  \n",
       "8                           NaN           Farmer       2  \n",
       "9                           NaN          Teacher       2  \n",
       "10                          NaN           Nurse        2  \n",
       "11                          NaN           Clerk        2  \n",
       "12                          NaN     Salesperson        2  \n",
       "13                          NaN          Doctor        2  \n",
       "14                          NaN      Accountant        2  \n",
       "15   Regimental Sergeant Major               NaN       1  \n",
       "16                   Brigadier               NaN       1  \n",
       "17               Major General               NaN       1  \n",
       "18               Field Marshal               NaN       1  \n",
       "19                                    Librarian        2  \n",
       "20                          NaN           Clerk        2  \n",
       "21                                     Musician        2  \n",
       "22                          NaN       Scientist        2  \n",
       "23                                       Writer        2  \n",
       "24                          NaN   Tourist guide        2  \n",
       "25                                Civil servant        2  \n",
       "26                          NaN      Politician        2  "
      ]
     },
     "execution_count": 49,
     "metadata": {},
     "output_type": "execute_result"
    }
   ],
   "source": [
    "df_nodes"
   ]
  },
  {
   "cell_type": "code",
   "execution_count": 50,
   "metadata": {},
   "outputs": [
    {
     "data": {
      "text/html": [
       "<div>\n",
       "<style scoped>\n",
       "    .dataframe tbody tr th:only-of-type {\n",
       "        vertical-align: middle;\n",
       "    }\n",
       "\n",
       "    .dataframe tbody tr th {\n",
       "        vertical-align: top;\n",
       "    }\n",
       "\n",
       "    .dataframe thead th {\n",
       "        text-align: right;\n",
       "    }\n",
       "</style>\n",
       "<table border=\"1\" class=\"dataframe\">\n",
       "  <thead>\n",
       "    <tr style=\"text-align: right;\">\n",
       "      <th></th>\n",
       "      <th>source</th>\n",
       "      <th>target</th>\n",
       "      <th>weights</th>\n",
       "    </tr>\n",
       "  </thead>\n",
       "  <tbody>\n",
       "    <tr>\n",
       "      <th>0</th>\n",
       "      <td>1</td>\n",
       "      <td>2</td>\n",
       "      <td>16</td>\n",
       "    </tr>\n",
       "    <tr>\n",
       "      <th>1</th>\n",
       "      <td>1</td>\n",
       "      <td>3</td>\n",
       "      <td>43</td>\n",
       "    </tr>\n",
       "    <tr>\n",
       "      <th>2</th>\n",
       "      <td>1</td>\n",
       "      <td>4</td>\n",
       "      <td>60</td>\n",
       "    </tr>\n",
       "    <tr>\n",
       "      <th>3</th>\n",
       "      <td>1</td>\n",
       "      <td>5</td>\n",
       "      <td>0</td>\n",
       "    </tr>\n",
       "    <tr>\n",
       "      <th>4</th>\n",
       "      <td>1</td>\n",
       "      <td>6</td>\n",
       "      <td>0</td>\n",
       "    </tr>\n",
       "    <tr>\n",
       "      <th>...</th>\n",
       "      <td>...</td>\n",
       "      <td>...</td>\n",
       "      <td>...</td>\n",
       "    </tr>\n",
       "    <tr>\n",
       "      <th>320</th>\n",
       "      <td>23</td>\n",
       "      <td>25</td>\n",
       "      <td>0</td>\n",
       "    </tr>\n",
       "    <tr>\n",
       "      <th>321</th>\n",
       "      <td>23</td>\n",
       "      <td>26</td>\n",
       "      <td>0</td>\n",
       "    </tr>\n",
       "    <tr>\n",
       "      <th>322</th>\n",
       "      <td>24</td>\n",
       "      <td>25</td>\n",
       "      <td>0</td>\n",
       "    </tr>\n",
       "    <tr>\n",
       "      <th>323</th>\n",
       "      <td>24</td>\n",
       "      <td>26</td>\n",
       "      <td>0</td>\n",
       "    </tr>\n",
       "    <tr>\n",
       "      <th>324</th>\n",
       "      <td>25</td>\n",
       "      <td>26</td>\n",
       "      <td>0</td>\n",
       "    </tr>\n",
       "  </tbody>\n",
       "</table>\n",
       "<p>325 rows × 3 columns</p>\n",
       "</div>"
      ],
      "text/plain": [
       "     source  target  weights\n",
       "0         1       2       16\n",
       "1         1       3       43\n",
       "2         1       4       60\n",
       "3         1       5        0\n",
       "4         1       6        0\n",
       "..      ...     ...      ...\n",
       "320      23      25        0\n",
       "321      23      26        0\n",
       "322      24      25        0\n",
       "323      24      26        0\n",
       "324      25      26        0\n",
       "\n",
       "[325 rows x 3 columns]"
      ]
     },
     "execution_count": 50,
     "metadata": {},
     "output_type": "execute_result"
    }
   ],
   "source": [
    "# load in the list of edges\n",
    "df_edges = pd.read_csv('./letters_data/Letters_edges.csv', index_col=None)\n",
    "df_edges           "
   ]
  },
  {
   "cell_type": "code",
   "execution_count": 51,
   "metadata": {},
   "outputs": [],
   "source": [
    "# There appear to be many edges with weight = 0. These can be removed by keeping a subset of the orginal dataframe \n",
    "# those rows with weight that does not equal 0\n",
    "\n",
    "df_edges = df_edges[df_edges['weights']!=0]\n",
    "                                     "
   ]
  },
  {
   "cell_type": "code",
   "execution_count": 52,
   "metadata": {},
   "outputs": [
    {
     "data": {
      "text/plain": [
       "(40, 3)"
      ]
     },
     "execution_count": 52,
     "metadata": {},
     "output_type": "execute_result"
    }
   ],
   "source": [
    "\n",
    "df_edges.shape\n"
   ]
  },
  {
   "cell_type": "markdown",
   "metadata": {},
   "source": [
    "### We can now use the networkx library to build an undirected network (Graph)"
   ]
  },
  {
   "cell_type": "code",
   "execution_count": 53,
   "metadata": {},
   "outputs": [],
   "source": [
    "G = nx.from_pandas_edgelist(df=df_edges,\n",
    "                           source='source',\n",
    "                           target='target',\n",
    "                           edge_attr='weights')"
   ]
  },
  {
   "cell_type": "code",
   "execution_count": 54,
   "metadata": {
    "scrolled": true
   },
   "outputs": [
    {
     "name": "stdout",
     "output_type": "stream",
     "text": [
      "Graph with 26 nodes and 40 edges\n"
     ]
    }
   ],
   "source": [
    "print(G)"
   ]
  },
  {
   "cell_type": "code",
   "execution_count": 71,
   "metadata": {},
   "outputs": [
    {
     "data": {
      "text/plain": [
       "4.2553846153846155"
      ]
     },
     "execution_count": 71,
     "metadata": {},
     "output_type": "execute_result"
    }
   ],
   "source": [
    "nx.average_shortest_path_length(G)"
   ]
  },
  {
   "cell_type": "code",
   "execution_count": 56,
   "metadata": {},
   "outputs": [
    {
     "data": {
      "text/plain": [
       "Index(['letterID', 'First_Name', 'Surname', 'Military/Civilian', 'Rank',\n",
       "       'Civilian_Career', 'Subnet'],\n",
       "      dtype='object')"
      ]
     },
     "execution_count": 56,
     "metadata": {},
     "output_type": "execute_result"
    }
   ],
   "source": [
    "df_nodes.columns"
   ]
  },
  {
   "cell_type": "code",
   "execution_count": 57,
   "metadata": {},
   "outputs": [
    {
     "data": {
      "text/plain": [
       "Index(['letterID', 'First_Name', 'Surname', 'Military/Civilian', 'Rank',\n",
       "       'Civilian_Career', 'Subnet', 'full_name'],\n",
       "      dtype='object')"
      ]
     },
     "execution_count": 57,
     "metadata": {},
     "output_type": "execute_result"
    }
   ],
   "source": [
    "df_nodes['full_name'] = df_nodes.First_Name.str.cat(df_nodesA['Surname'])\n",
    "\n",
    "df_nodes.columns"
   ]
  },
  {
   "cell_type": "code",
   "execution_count": 58,
   "metadata": {},
   "outputs": [],
   "source": [
    "# Add some more data to the nodes in the network graph\n",
    "\n",
    "nx.set_node_attributes(G, pd.Series(df_nodes.full_name, index=df_nodes.index).to_dict(), 'full_name')\n",
    "nx.set_node_attributes(G, pd.Series(df_nodes['Military/Civilian'], index=df_nodes.index).to_dict(), 'Military/Civilian')\n",
    "nx.set_node_attributes(G, pd.Series(df_nodes.Rank, index=df_nodes.index).to_dict(), 'Rank')\n",
    "nx.set_node_attributes(G, pd.Series(df_nodes.Civilian_Career, index=df_nodes.index).to_dict(), 'Civilian_Career')\n"
   ]
  },
  {
   "cell_type": "code",
   "execution_count": 59,
   "metadata": {},
   "outputs": [
    {
     "data": {
      "text/plain": [
       "{'full_name': ' Chloe  Carter ',\n",
       " 'Military/Civilian': ' Military ',\n",
       " 'Rank': ' Lance Corporal ',\n",
       " 'Civilian_Career': nan}"
      ]
     },
     "execution_count": 59,
     "metadata": {},
     "output_type": "execute_result"
    }
   ],
   "source": [
    "G.nodes[3]\n"
   ]
  },
  {
   "cell_type": "code",
   "execution_count": 60,
   "metadata": {},
   "outputs": [
    {
     "name": "stdout",
     "output_type": "stream",
     "text": [
      "Graph with 26 nodes and 40 edges\n"
     ]
    }
   ],
   "source": [
    "print(G)"
   ]
  },
  {
   "cell_type": "code",
   "execution_count": 61,
   "metadata": {},
   "outputs": [
    {
     "name": "stdout",
     "output_type": "stream",
     "text": [
      "Graph with 26 nodes and 40 edges\n",
      "1 connected components\n"
     ]
    }
   ],
   "source": [
    "print(G)\n",
    "print(nx.number_connected_components(G), \"connected components\")"
   ]
  },
  {
   "cell_type": "code",
   "execution_count": 62,
   "metadata": {},
   "outputs": [],
   "source": [
    "G.name = 'first war-letters network'"
   ]
  },
  {
   "cell_type": "code",
   "execution_count": 70,
   "metadata": {},
   "outputs": [
    {
     "data": {
      "image/png": "[encoded data removed]",
      "text/plain": [
       "<Figure size 640x480 with 1 Axes>"
      ]
     },
     "metadata": {},
     "output_type": "display_data"
    }
   ],
   "source": [
    "nx.draw_kamada_kawai(G,\n",
    "                     node_color=df_nodes.Subnet,\n",
    "                    cmap=plt.cm.Set1,\n",
    "                    with_labels=True)"
   ]
  },
  {
   "cell_type": "code",
   "execution_count": null,
   "metadata": {},
   "outputs": [],
   "source": []
  },
  {
   "cell_type": "code",
   "execution_count": null,
   "metadata": {},
   "outputs": [],
   "source": []
  },
  {
   "cell_type": "code",
   "execution_count": 55,
   "metadata": {
    "scrolled": true
   },
   "outputs": [
    {
     "data": {
      "text/plain": [
       "{1: 0.0044444444444444444,\n",
       " 2: 0.022222222222222237,\n",
       " 3: 0.06944444444444448,\n",
       " 4: 0.022222222222222237,\n",
       " 7: 0.3922222222222222,\n",
       " 5: 0.0,\n",
       " 6: 0.03444444444444445,\n",
       " 8: 0.011666666666666667,\n",
       " 10: 0.21500000000000002,\n",
       " 11: 0.17500000000000002,\n",
       " 9: 0.025,\n",
       " 12: 0.515,\n",
       " 13: 0.52,\n",
       " 14: 0.0,\n",
       " 15: 0.5133333333333334,\n",
       " 16: 0.025,\n",
       " 18: 0.4666666666666667,\n",
       " 17: 0.011666666666666667,\n",
       " 21: 0.42333333333333334,\n",
       " 19: 0.0,\n",
       " 20: 0.0,\n",
       " 26: 0.08,\n",
       " 22: 0.0,\n",
       " 23: 0.0,\n",
       " 24: 0.0,\n",
       " 25: 0.0}"
      ]
     },
     "execution_count": 55,
     "metadata": {},
     "output_type": "execute_result"
    }
   ],
   "source": [
    "nx.betweenness_centrality(G)"
   ]
  }
 ],
 "metadata": {
  "kernelspec": {
   "display_name": "Python 3 (ipykernel)",
   "language": "python",
   "name": "python3"
  },
  "language_info": {
   "codemirror_mode": {
    "name": "ipython",
    "version": 3
   },
   "file_extension": ".py",
   "mimetype": "text/x-python",
   "name": "python",
   "nbconvert_exporter": "python",
   "pygments_lexer": "ipython3",
   "version": "3.11.4"
  }
 },
 "nbformat": 4,
 "nbformat_minor": 4
}
